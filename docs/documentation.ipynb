{
 "cells": [
  {
   "cell_type": "markdown",
   "metadata": {},
   "source": [
    "## Estructuras de Datos\n",
    "\n",
    "## Universidad Nacional de Tres de Febrero\n",
    "\n",
    "## Trabajo Práctico Nº 1\n",
    "\n",
    "El objetivo de este trabajo práctico es poner en práctica los conocimientos de python aprendidos hasta el momento.\n",
    "Se deberá implementar un programa que resuelva Sudokus de tamaño 9x9.\n",
    "Los tableros de entrada deberán leerse de un archivo de texto, en formatos csv sin encabezado donde cada línea representa una fila del sudoku, por lo tanto desde la fila 1 a la fila 9 representan el primer tablero, desde la fila 10 a la 18 inclusive el segundo, etc. En https://www.sudoku-online.org/imprimir-sudokus.php se encuentras miles de sudoku y sus resoluciones para probar.\n",
    "En cada línea del archivo se representarán con 0 las celdas vacías.\n",
    "\n",
    "## Solver:\n",
    "\n",
    "Se deberá programar un solver, que tome un archivo de entrada y resuelva todos los tableros utilizando fuerza bruta (backtracking). El diseño deberá realizarse siguiendo el paradigma de la POO.\n",
    "La salida del solver será un archivo csv con el mismo formato que el archivo de entrada y con todas las posiciones resueltas (sin ceros).\n",
    "También cada vez que encuentra una solución deberá mostrarla por pantalla\n",
    "Persistencia:\n",
    "Se deberá implementar persistencia para que en cualquier momento el usuario pueda interrumpir la ejecución con la combinación de teclas Ctrl-C, cuyo efecto inmediato será guardar todo lo calculado al disco para luego recuperarlo y continuar\n",
    "Excepciones:\n",
    "El sistema deberá implementar excepciones para manejar situaciones anómalas, por ejemplo en la entrada de datos, etc.\n",
    "\n",
    "## Menú:\n",
    "El usuario debe contar con las siguientes opciones:\n",
    "1- ingresar el nombre de un archivo (path completo) con la entrada de datos\n",
    "2- Guardar la ejecución parcial, con un nombre arbitrario\n",
    "3- Recuperar una ejecución parcial y continuarla.\n",
    "\n",
    "## Medición de tiempos\n",
    "El otro modo de funcionamiento del solver consistirá en arrancar con un tablero vacío y buscar todas las soluciones posibles (hasta un límite), se deberá presentar una tabla y un gráfico con los tiempos obtenidos.\n",
    "por ejemplo:\n",
    "\n",
    "Soluciones\ttiempo[seg]\n",
    "10\t\tx.xxxx\n",
    "20\t\tx.xxxx\n",
    "30\t\tx.xxxx\n",
    "40\t\tx.xxxx\n",
    "50\t\tx.xxxx\n",
    "…\n",
    "\n",
    "100\t\tx.xxxx\n",
    "…..\n",
    "10000\t\tx.xxxx\n",
    "\n",
    "La cantidad de tableros posibles de 9x9 partiendo de uno vacío, fue calculado en 2005 por Bertram Felgenhauer es de 6670903752021072936960, este cálculo del resultado fue simplificado considerablemente por el análisis efectuado por Frazer Jarvis confirmado independientemente por Ed Russell. Russell y Jarvis también demuestran que si las simetrías son tomadas en cuenta hay 5472730538 soluciones posibles  \n",
    "Complejidad computacional del solver\n",
    "Estimar la complejidad del solver y comparar con los datos obtenidos empíricamente en el punto anterior.\n",
    "Informe:\n",
    "El informe deberá realizarse en Jupyter con fragmentos de códigos embebidos y funcionales, además se deberá proveer los archivos .py con la solución completa y que se puedan ejecutar por consola. \n",
    "Se deberán documentar todas las decisiones de diseño y las conclusiones arribadas respecto a la complejidad y los tiempos medidos.\n",
    "Junto al informe y los archivos .py deberán entregarse varios archivos de pruebas con sudokus de distintos niveles de complejidad para resolver. Los archivos de entrada deben tener entre 10 y 100 tableros a resolver\n",
    "\n",
    "\n",
    "\n",
    "## Pautas de trabajo:\n",
    "Podrán trabajar en grupos de hasta 3 personas.\n",
    "Fechas de Entrega:\n",
    "Turno de los martes: 17/09/2019 Turno de los jueves: 19/09/2019\n",
    "El TP se deberá entregar en formato digital, hasta las 23:59:59 del plazo solicitado a la dirección de mail: estructuras-de-datos-untref-doc@googlegroups.com.\n",
    "Se solicita un archivo .zip con el siguiente nombre “grupo–turno-.zip”, respetando mayúsculas y minúsculas. (Ejemplo: grupo-nombre-turno-mar.zip)\n",
    "\n"
   ]
  },
  {
   "cell_type": "code",
   "execution_count": null,
   "metadata": {},
   "outputs": [],
   "source": []
  }
 ],
 "metadata": {
  "kernelspec": {
   "display_name": "Python 3",
   "language": "python",
   "name": "python3"
  },
  "language_info": {
   "codemirror_mode": {
    "name": "ipython",
    "version": 3
   },
   "file_extension": ".py",
   "mimetype": "text/x-python",
   "name": "python",
   "nbconvert_exporter": "python",
   "pygments_lexer": "ipython3",
   "version": "3.7.3"
  },
  "pycharm": {
   "stem_cell": {
    "cell_type": "raw",
    "metadata": {
     "collapsed": false
    },
    "source": [
     "#%\n",
     "\n",
     "\n"
    ]
   }
  }
 },
 "nbformat": 4,
 "nbformat_minor": 1
}
