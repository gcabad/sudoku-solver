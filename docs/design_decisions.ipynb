{
 "cells": [
  {
   "cell_type": "markdown",
   "source": [
    "# logic.py\n",
    "- Se encarga de la ejecucion del programa\n",
    "- Se encarga de la logica del programa\n",
    "- Maneja la interaccion entre usuario-programa\n",
    "- Maneja posibles errores de entrada\n",
    "- Manejo de archivos: \n",
    "    - Se decide leer/crear archivo segun su existencia.\n",
    "    - Si existe se carga/continua.\n",
    "    - Si no existe, se lee el archivo de `resources/sudokus.csv`\n",
    "- Persistencia:\n",
    "    - Salvado y escritura de archivos en formato `.csv` por razonas de consistencia\n",
    "    \n",
    "\n",
    "# solver.py\n",
    "## Solver:\n",
    "Objeto que implementa el algoritmo de backtracking y metodos\n",
    "- Busca lugares libres en el sudoku\n",
    "- Busca lugar libre en fila\n",
    "- Busca lugar libre en columna\n",
    "- Busca lugar libre en el cuadrado\n",
    "- Comprueba si es posible ingresar un numero\n",
    "- Utiliza backtracking para encontrar los numeros\n",
    "\n",
    "# table.py\n",
    "## Table\n",
    "Objeto que es utilizado en la ejecucion de sudokus vacios y de distintos tamaños\n",
    "- Imprime la tabla con R siendo un numero que elevado al cuadrado es un posible tablero, y donde Time es el tiempo total de ejecucion\n",
    "- Devuelve R, el cual fue el ultimo en ejecutar satisfactoriamente, para asi continuar la ejecucion sin volver a ejecutar anteriores tamaños\n",
    "# exceptions.py\n",
    "## MalformedSudokuException\n",
    "\n",
    "Utilizada para lanzarse cuando el sudoku de entrada, no es de tamaño 9x9\n",
    "\n",
    "## InvalidFileExtensionException\n",
    "Utilizada para lanzarse cuando el usuario ingresa un archivo que no es de formato  `csv`\n",
    "\n",
    "# Complejidad\n",
    "## Resultados de tiempo de medicion obtenidos:\n",
    "Siendo R el tamaño de los cuadrados internos\n",
    "\n",
    "| R | Tiempo |\n",
    "| --- | --- |\n",
    "| 3 | 0.022s |\n",
    "| 4 | 0.032s |\n",
    "\n",
    "## Complejidad computacional\n",
    "Sudoku parcial: \n",
    "O ( n^m )\n",
    "\n",
    "Donde n es el numero de posibilidades para cada cuadrado y m es el numero de espacios que estan disponibles\n",
    "\n",
    "Sudoku vacio\n",
    "O ( n^n ) "
   ],
   "metadata": {
    "collapsed": false
   }
  }
 ],
 "metadata": {
  "language_info": {
   "codemirror_mode": {
    "name": "ipython",
    "version": 2
   },
   "file_extension": ".py",
   "mimetype": "text/x-python",
   "name": "python",
   "nbconvert_exporter": "python",
   "pygments_lexer": "ipython2",
   "version": "2.7.6"
  },
  "kernelspec": {
   "name": "python3",
   "language": "python",
   "display_name": "Python 3"
  },
  "pycharm": {
   "stem_cell": {
    "cell_type": "raw",
    "source": [],
    "metadata": {
     "collapsed": false
    }
   }
  }
 },
 "nbformat": 4,
 "nbformat_minor": 0
}