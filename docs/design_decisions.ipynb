{
 "cells": [
  {
   "cell_type": "markdown",
   "source": [
    "# menu.py\n",
    "## Menu:\n",
    "- Imprimir mensajes en consola\n",
    "- Devolver el ingreso de datos del usuario\n",
    "- Se le da al usuario la funcion de:\n",
    "    - Ingresar el nombre de un archivo nuevo\n",
    "    - Cargar sudoku semi-completado, ingresando nombre de su partida\n",
    "    \n",
    "# logic.py\n",
    "Se encarga de la logica del programa.\n",
    "- Lee los inputs devueltos por `Menu`\n",
    "- Maneja posibles errores\n",
    "- Manejo de archivos: \n",
    "    - Se decide leer/crear archivo segun su existencia.\n",
    "    - Si existe se carga/continua.\n",
    "    - Si no existe, se lee el archivo de `resources/sudokus.csv`\n",
    "\n",
    "# Solver:\n",
    "Objeto que implementa el algoritmo de backtracking y metodos\n",
    "- Busca lugares libres en el sudoku\n",
    "- Busca lugar libre en fila\n",
    "- Busca lugar libre en columna\n",
    "- Busca lugar libre en el cuadrado\n",
    "- Comprueba si es posible ingresar un numero\n",
    "- Utiliza backtracking para encontrar los numeros\n"
   ],
   "metadata": {
    "collapsed": false
   }
  }
 ],
 "metadata": {
  "language_info": {
   "codemirror_mode": {
    "name": "ipython",
    "version": 2
   },
   "file_extension": ".py",
   "mimetype": "text/x-python",
   "name": "python",
   "nbconvert_exporter": "python",
   "pygments_lexer": "ipython2",
   "version": "2.7.6"
  },
  "kernelspec": {
   "name": "python3",
   "language": "python",
   "display_name": "Python 3"
  },
  "pycharm": {
   "stem_cell": {
    "cell_type": "raw",
    "source": [],
    "metadata": {
     "collapsed": false
    }
   }
  }
 },
 "nbformat": 4,
 "nbformat_minor": 0
}